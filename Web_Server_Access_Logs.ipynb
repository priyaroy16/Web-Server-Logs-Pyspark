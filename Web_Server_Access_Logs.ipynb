{
  "nbformat": 4,
  "nbformat_minor": 0,
  "metadata": {
    "colab": {
      "provenance": [],
      "authorship_tag": "ABX9TyPJHxpBl/kPF73JXsArF1sD",
      "include_colab_link": true
    },
    "kernelspec": {
      "name": "python3",
      "display_name": "Python 3"
    },
    "language_info": {
      "name": "python"
    }
  },
  "cells": [
    {
      "cell_type": "markdown",
      "metadata": {
        "id": "view-in-github",
        "colab_type": "text"
      },
      "source": [
        "<a href=\"https://colab.research.google.com/github/priyaroy16/Web-Server-Logs-Pyspark/blob/main/Web_Server_Access_Logs.ipynb\" target=\"_parent\"><img src=\"https://colab.research.google.com/assets/colab-badge.svg\" alt=\"Open In Colab\"/></a>"
      ]
    },
    {
      "cell_type": "code",
      "execution_count": 1,
      "metadata": {
        "colab": {
          "base_uri": "https://localhost:8080/"
        },
        "id": "EcSGEkBLkNFr",
        "outputId": "a48ddacc-c0ee-4b9f-a5d7-63bc869fc555"
      },
      "outputs": [
        {
          "output_type": "stream",
          "name": "stdout",
          "text": [
            "Collecting pyspark\n",
            "  Downloading pyspark-3.5.1.tar.gz (317.0 MB)\n",
            "\u001b[2K     \u001b[90m━━━━━━━━━━━━━━━━━━━━━━━━━━━━━━━━━━━━━━━━\u001b[0m \u001b[32m317.0/317.0 MB\u001b[0m \u001b[31m3.7 MB/s\u001b[0m eta \u001b[36m0:00:00\u001b[0m\n",
            "\u001b[?25h  Preparing metadata (setup.py) ... \u001b[?25l\u001b[?25hdone\n",
            "Requirement already satisfied: py4j==0.10.9.7 in /usr/local/lib/python3.10/dist-packages (from pyspark) (0.10.9.7)\n",
            "Building wheels for collected packages: pyspark\n",
            "  Building wheel for pyspark (setup.py) ... \u001b[?25l\u001b[?25hdone\n",
            "  Created wheel for pyspark: filename=pyspark-3.5.1-py2.py3-none-any.whl size=317488491 sha256=85ca4db4c390b912806863e486b37df7234a3c40fc4007ddd71edd8cc25d0f20\n",
            "  Stored in directory: /root/.cache/pip/wheels/80/1d/60/2c256ed38dddce2fdd93be545214a63e02fbd8d74fb0b7f3a6\n",
            "Successfully built pyspark\n",
            "Installing collected packages: pyspark\n",
            "Successfully installed pyspark-3.5.1\n",
            "Requirement already satisfied: kaggle in /usr/local/lib/python3.10/dist-packages (1.6.14)\n",
            "Requirement already satisfied: six>=1.10 in /usr/local/lib/python3.10/dist-packages (from kaggle) (1.16.0)\n",
            "Requirement already satisfied: certifi>=2023.7.22 in /usr/local/lib/python3.10/dist-packages (from kaggle) (2024.7.4)\n",
            "Requirement already satisfied: python-dateutil in /usr/local/lib/python3.10/dist-packages (from kaggle) (2.8.2)\n",
            "Requirement already satisfied: requests in /usr/local/lib/python3.10/dist-packages (from kaggle) (2.31.0)\n",
            "Requirement already satisfied: tqdm in /usr/local/lib/python3.10/dist-packages (from kaggle) (4.66.4)\n",
            "Requirement already satisfied: python-slugify in /usr/local/lib/python3.10/dist-packages (from kaggle) (8.0.4)\n",
            "Requirement already satisfied: urllib3 in /usr/local/lib/python3.10/dist-packages (from kaggle) (2.0.7)\n",
            "Requirement already satisfied: bleach in /usr/local/lib/python3.10/dist-packages (from kaggle) (6.1.0)\n",
            "Requirement already satisfied: webencodings in /usr/local/lib/python3.10/dist-packages (from bleach->kaggle) (0.5.1)\n",
            "Requirement already satisfied: text-unidecode>=1.3 in /usr/local/lib/python3.10/dist-packages (from python-slugify->kaggle) (1.3)\n",
            "Requirement already satisfied: charset-normalizer<4,>=2 in /usr/local/lib/python3.10/dist-packages (from requests->kaggle) (3.3.2)\n",
            "Requirement already satisfied: idna<4,>=2.5 in /usr/local/lib/python3.10/dist-packages (from requests->kaggle) (3.7)\n"
          ]
        }
      ],
      "source": [
        "!pip install pyspark\n",
        "!pip install kaggle #Install Kaggle to upload dataset file directly"
      ]
    },
    {
      "cell_type": "code",
      "source": [
        "#Upload Kaggle API Key file (kaggle.json)\n",
        "from google.colab import files\n",
        "files.upload()"
      ],
      "metadata": {
        "colab": {
          "base_uri": "https://localhost:8080/",
          "height": 90
        },
        "id": "tJunQ1w7fYof",
        "outputId": "6e267080-2d8b-4258-ca45-29b62f1acdba"
      },
      "execution_count": 2,
      "outputs": [
        {
          "output_type": "display_data",
          "data": {
            "text/plain": [
              "<IPython.core.display.HTML object>"
            ],
            "text/html": [
              "\n",
              "     <input type=\"file\" id=\"files-7e3067b6-d47b-4925-947c-826daf27bce2\" name=\"files[]\" multiple disabled\n",
              "        style=\"border:none\" />\n",
              "     <output id=\"result-7e3067b6-d47b-4925-947c-826daf27bce2\">\n",
              "      Upload widget is only available when the cell has been executed in the\n",
              "      current browser session. Please rerun this cell to enable.\n",
              "      </output>\n",
              "      <script>// Copyright 2017 Google LLC\n",
              "//\n",
              "// Licensed under the Apache License, Version 2.0 (the \"License\");\n",
              "// you may not use this file except in compliance with the License.\n",
              "// You may obtain a copy of the License at\n",
              "//\n",
              "//      http://www.apache.org/licenses/LICENSE-2.0\n",
              "//\n",
              "// Unless required by applicable law or agreed to in writing, software\n",
              "// distributed under the License is distributed on an \"AS IS\" BASIS,\n",
              "// WITHOUT WARRANTIES OR CONDITIONS OF ANY KIND, either express or implied.\n",
              "// See the License for the specific language governing permissions and\n",
              "// limitations under the License.\n",
              "\n",
              "/**\n",
              " * @fileoverview Helpers for google.colab Python module.\n",
              " */\n",
              "(function(scope) {\n",
              "function span(text, styleAttributes = {}) {\n",
              "  const element = document.createElement('span');\n",
              "  element.textContent = text;\n",
              "  for (const key of Object.keys(styleAttributes)) {\n",
              "    element.style[key] = styleAttributes[key];\n",
              "  }\n",
              "  return element;\n",
              "}\n",
              "\n",
              "// Max number of bytes which will be uploaded at a time.\n",
              "const MAX_PAYLOAD_SIZE = 100 * 1024;\n",
              "\n",
              "function _uploadFiles(inputId, outputId) {\n",
              "  const steps = uploadFilesStep(inputId, outputId);\n",
              "  const outputElement = document.getElementById(outputId);\n",
              "  // Cache steps on the outputElement to make it available for the next call\n",
              "  // to uploadFilesContinue from Python.\n",
              "  outputElement.steps = steps;\n",
              "\n",
              "  return _uploadFilesContinue(outputId);\n",
              "}\n",
              "\n",
              "// This is roughly an async generator (not supported in the browser yet),\n",
              "// where there are multiple asynchronous steps and the Python side is going\n",
              "// to poll for completion of each step.\n",
              "// This uses a Promise to block the python side on completion of each step,\n",
              "// then passes the result of the previous step as the input to the next step.\n",
              "function _uploadFilesContinue(outputId) {\n",
              "  const outputElement = document.getElementById(outputId);\n",
              "  const steps = outputElement.steps;\n",
              "\n",
              "  const next = steps.next(outputElement.lastPromiseValue);\n",
              "  return Promise.resolve(next.value.promise).then((value) => {\n",
              "    // Cache the last promise value to make it available to the next\n",
              "    // step of the generator.\n",
              "    outputElement.lastPromiseValue = value;\n",
              "    return next.value.response;\n",
              "  });\n",
              "}\n",
              "\n",
              "/**\n",
              " * Generator function which is called between each async step of the upload\n",
              " * process.\n",
              " * @param {string} inputId Element ID of the input file picker element.\n",
              " * @param {string} outputId Element ID of the output display.\n",
              " * @return {!Iterable<!Object>} Iterable of next steps.\n",
              " */\n",
              "function* uploadFilesStep(inputId, outputId) {\n",
              "  const inputElement = document.getElementById(inputId);\n",
              "  inputElement.disabled = false;\n",
              "\n",
              "  const outputElement = document.getElementById(outputId);\n",
              "  outputElement.innerHTML = '';\n",
              "\n",
              "  const pickedPromise = new Promise((resolve) => {\n",
              "    inputElement.addEventListener('change', (e) => {\n",
              "      resolve(e.target.files);\n",
              "    });\n",
              "  });\n",
              "\n",
              "  const cancel = document.createElement('button');\n",
              "  inputElement.parentElement.appendChild(cancel);\n",
              "  cancel.textContent = 'Cancel upload';\n",
              "  const cancelPromise = new Promise((resolve) => {\n",
              "    cancel.onclick = () => {\n",
              "      resolve(null);\n",
              "    };\n",
              "  });\n",
              "\n",
              "  // Wait for the user to pick the files.\n",
              "  const files = yield {\n",
              "    promise: Promise.race([pickedPromise, cancelPromise]),\n",
              "    response: {\n",
              "      action: 'starting',\n",
              "    }\n",
              "  };\n",
              "\n",
              "  cancel.remove();\n",
              "\n",
              "  // Disable the input element since further picks are not allowed.\n",
              "  inputElement.disabled = true;\n",
              "\n",
              "  if (!files) {\n",
              "    return {\n",
              "      response: {\n",
              "        action: 'complete',\n",
              "      }\n",
              "    };\n",
              "  }\n",
              "\n",
              "  for (const file of files) {\n",
              "    const li = document.createElement('li');\n",
              "    li.append(span(file.name, {fontWeight: 'bold'}));\n",
              "    li.append(span(\n",
              "        `(${file.type || 'n/a'}) - ${file.size} bytes, ` +\n",
              "        `last modified: ${\n",
              "            file.lastModifiedDate ? file.lastModifiedDate.toLocaleDateString() :\n",
              "                                    'n/a'} - `));\n",
              "    const percent = span('0% done');\n",
              "    li.appendChild(percent);\n",
              "\n",
              "    outputElement.appendChild(li);\n",
              "\n",
              "    const fileDataPromise = new Promise((resolve) => {\n",
              "      const reader = new FileReader();\n",
              "      reader.onload = (e) => {\n",
              "        resolve(e.target.result);\n",
              "      };\n",
              "      reader.readAsArrayBuffer(file);\n",
              "    });\n",
              "    // Wait for the data to be ready.\n",
              "    let fileData = yield {\n",
              "      promise: fileDataPromise,\n",
              "      response: {\n",
              "        action: 'continue',\n",
              "      }\n",
              "    };\n",
              "\n",
              "    // Use a chunked sending to avoid message size limits. See b/62115660.\n",
              "    let position = 0;\n",
              "    do {\n",
              "      const length = Math.min(fileData.byteLength - position, MAX_PAYLOAD_SIZE);\n",
              "      const chunk = new Uint8Array(fileData, position, length);\n",
              "      position += length;\n",
              "\n",
              "      const base64 = btoa(String.fromCharCode.apply(null, chunk));\n",
              "      yield {\n",
              "        response: {\n",
              "          action: 'append',\n",
              "          file: file.name,\n",
              "          data: base64,\n",
              "        },\n",
              "      };\n",
              "\n",
              "      let percentDone = fileData.byteLength === 0 ?\n",
              "          100 :\n",
              "          Math.round((position / fileData.byteLength) * 100);\n",
              "      percent.textContent = `${percentDone}% done`;\n",
              "\n",
              "    } while (position < fileData.byteLength);\n",
              "  }\n",
              "\n",
              "  // All done.\n",
              "  yield {\n",
              "    response: {\n",
              "      action: 'complete',\n",
              "    }\n",
              "  };\n",
              "}\n",
              "\n",
              "scope.google = scope.google || {};\n",
              "scope.google.colab = scope.google.colab || {};\n",
              "scope.google.colab._files = {\n",
              "  _uploadFiles,\n",
              "  _uploadFilesContinue,\n",
              "};\n",
              "})(self);\n",
              "</script> "
            ]
          },
          "metadata": {}
        },
        {
          "output_type": "stream",
          "name": "stdout",
          "text": [
            "Saving kaggle.json to kaggle.json\n"
          ]
        },
        {
          "output_type": "execute_result",
          "data": {
            "text/plain": [
              "{'kaggle.json': b'{\"username\":\"priyaroy1601\",\"key\":\"565cac1700996162f4a687ef7051f782\"}'}"
            ]
          },
          "metadata": {},
          "execution_count": 2
        }
      ]
    },
    {
      "cell_type": "code",
      "source": [
        "#Download the datset directly using the below steps\n",
        "!mkdir -p ~/.kaggle\n",
        "!mv kaggle.json ~/.kaggle/\n",
        "!chmod 600 ~/.kaggle/kaggle.json\n",
        "\n",
        "!kaggle datasets download -d eliasdabbas/web-server-access-logs\n",
        "!unzip web-server-access-logs.zip"
      ],
      "metadata": {
        "colab": {
          "base_uri": "https://localhost:8080/"
        },
        "id": "we2Pv_vkfejj",
        "outputId": "33665ada-0cd1-4769-ed03-ae31b7985e55"
      },
      "execution_count": 3,
      "outputs": [
        {
          "output_type": "stream",
          "name": "stdout",
          "text": [
            "Dataset URL: https://www.kaggle.com/datasets/eliasdabbas/web-server-access-logs\n",
            "License(s): CC0-1.0\n",
            "Downloading web-server-access-logs.zip to /content\n",
            " 99% 264M/267M [00:03<00:00, 92.5MB/s]\n",
            "100% 267M/267M [00:03<00:00, 88.8MB/s]\n",
            "Archive:  web-server-access-logs.zip\n",
            "  inflating: access.log              \n",
            "  inflating: client_hostname.csv     \n"
          ]
        }
      ]
    },
    {
      "cell_type": "code",
      "source": [
        "from pyspark.sql import SparkSession\n",
        "from pyspark.sql.types import StructType, StructField, StringType, TimestampType, IntegerType\n",
        "from pyspark.sql.functions import to_timestamp\n",
        "import re"
      ],
      "metadata": {
        "id": "9XKcXdJUxbF2"
      },
      "execution_count": 4,
      "outputs": []
    },
    {
      "cell_type": "code",
      "source": [
        "#Create Spark Session\n",
        "spark = SparkSession.builder.appName(\"Log File Analysis\").getOrCreate()\n",
        "\n",
        "#Define Schema\n",
        "schema = StructType([\n",
        "    StructField(\"ip\", dataType=StringType(), nullable=True),\n",
        "    StructField(\"unknown_column1\", dataType=StringType(), nullable=True),\n",
        "    StructField(\"unknown_column2\", dataType=StringType(), nullable=True),\n",
        "    StructField(\"timestamp\", dataType=StringType(), nullable=True),\n",
        "    StructField(\"request\", dataType=StringType(), nullable=True),\n",
        "    StructField(\"status\", dataType=StringType(), nullable=True),\n",
        "    StructField(\"size\", dataType=StringType(), nullable=True),\n",
        "    StructField(\"referrer\", dataType=StringType(), nullable=True),\n",
        "    StructField(\"user_agent\", dataType=StringType(), nullable=True),\n",
        "    StructField(\"unknown_column3\", dataType=StringType(), nullable=True)\n",
        "])"
      ],
      "metadata": {
        "id": "XUIltTfIxz0w"
      },
      "execution_count": 5,
      "outputs": []
    },
    {
      "cell_type": "code",
      "source": [
        "def parse_log_file(logs):\n",
        "  # Regex match for each column\n",
        "  match = re.match(r'(\\S+) (\\S+) (\\S+) \\[(.*?)\\] \"(.*?)\" (\\S+) (\\S+) \"(.*?)\" \"(.*?)\" \"(.*?)\"', logs)\n",
        "  if match:\n",
        "    return (match.group(1), match.group(2), match.group(3), match.group(4), match.group(5), match.group(6), match.group(7), match.group(8), match.group(9), match.group(10))\n",
        "  else:\n",
        "    return (\"-\",\"-\",\"-\",\"-\",\"-\",\"-\",\"-\",\"-\",\"-\",\"-\")\n",
        "\n",
        "logFile = spark.sparkContext.textFile(\"/content/access.log\")\n",
        "parsedLogs = logFile.map(parse_log_file)\n",
        "\n",
        "df = spark.createDataFrame(parsedLogs, schema)"
      ],
      "metadata": {
        "id": "11n4Ue8ZgvDv"
      },
      "execution_count": 6,
      "outputs": []
    },
    {
      "cell_type": "code",
      "source": [
        "# Drop unknown columns\n",
        "df = df.drop('unknown_column1', 'unknown_column2', 'unknown_column3')\n",
        "df.show(10)\n",
        "df.cache() #Caching the dataframe since it's used frequently for better performance"
      ],
      "metadata": {
        "colab": {
          "base_uri": "https://localhost:8080/"
        },
        "id": "8y7_FNUvg3ym",
        "outputId": "fcf8f892-b4fe-4de3-a65a-0eda836468f0"
      },
      "execution_count": 7,
      "outputs": [
        {
          "output_type": "stream",
          "name": "stdout",
          "text": [
            "+-------------+--------------------+--------------------+------+-----+--------------------+--------------------+\n",
            "|           ip|           timestamp|             request|status| size|            referrer|          user_agent|\n",
            "+-------------+--------------------+--------------------+------+-----+--------------------+--------------------+\n",
            "| 54.36.149.41|22/Jan/2019:03:56...|GET /filter/27|13...|   200|30577|                   -|Mozilla/5.0 (comp...|\n",
            "|  31.56.96.51|22/Jan/2019:03:56...|GET /image/60844/...|   200| 5667|https://www.zanbi...|Mozilla/5.0 (Linu...|\n",
            "|  31.56.96.51|22/Jan/2019:03:56...|GET /image/61474/...|   200| 5379|https://www.zanbi...|Mozilla/5.0 (Linu...|\n",
            "|40.77.167.129|22/Jan/2019:03:56...|GET /image/14925/...|   200| 1696|                   -|Mozilla/5.0 (comp...|\n",
            "|  91.99.72.15|22/Jan/2019:03:56...|GET /product/3189...|   200|41483|                   -|Mozilla/5.0 (Wind...|\n",
            "|40.77.167.129|22/Jan/2019:03:56...|GET /image/23488/...|   200| 2654|                   -|Mozilla/5.0 (comp...|\n",
            "|40.77.167.129|22/Jan/2019:03:56...|GET /image/45437/...|   200| 3688|                   -|Mozilla/5.0 (comp...|\n",
            "|40.77.167.129|22/Jan/2019:03:56...|GET /image/576/ar...|   200|14776|                   -|Mozilla/5.0 (comp...|\n",
            "|66.249.66.194|22/Jan/2019:03:56...|GET /filter/b41,b...|   200|34277|                   -|Mozilla/5.0 (comp...|\n",
            "|40.77.167.129|22/Jan/2019:03:56...|GET /image/57710/...|   200| 1695|                   -|Mozilla/5.0 (comp...|\n",
            "+-------------+--------------------+--------------------+------+-----+--------------------+--------------------+\n",
            "only showing top 10 rows\n",
            "\n"
          ]
        },
        {
          "output_type": "execute_result",
          "data": {
            "text/plain": [
              "DataFrame[ip: string, timestamp: string, request: string, status: string, size: string, referrer: string, user_agent: string]"
            ]
          },
          "metadata": {},
          "execution_count": 7
        }
      ]
    },
    {
      "cell_type": "code",
      "source": [
        "# Knowing the number of cores in cluster helps in partitioning\n",
        "num_cores = spark.sparkContext.defaultParallelism\n",
        "print(num_cores)\n",
        "\n",
        "# Each core can have 2-4 partitions. We'll make 2*3=6 partitions here\n",
        "df = df.repartition(6)"
      ],
      "metadata": {
        "colab": {
          "base_uri": "https://localhost:8080/"
        },
        "id": "JvkRMHS4mMh2",
        "outputId": "fa4e430b-3602-44f9-a300-0f128c7feae9"
      },
      "execution_count": 8,
      "outputs": [
        {
          "output_type": "stream",
          "name": "stdout",
          "text": [
            "2\n"
          ]
        }
      ]
    },
    {
      "cell_type": "code",
      "source": [
        "# Perform data queries\n",
        "\n",
        "# 1. Count the number of occurrences of each HTTP status code\n",
        "# 2. Filter logs with codes not 200\n",
        "# 3. Find the top 10 IP addresses making requests and whether they are malicious or not\n",
        "# 4. Identify Potential Unauthorized Access Attempts (401)\n",
        "# 5. Detect Multiple Failed Login Attempts\n",
        "# 6. Find Most Frequently Accessed Sensitive Endpoints (/admin)\n",
        "# 7. Identify Large File Downloads"
      ],
      "metadata": {
        "id": "VsTu-sNlimVB"
      },
      "execution_count": 9,
      "outputs": []
    },
    {
      "cell_type": "code",
      "source": [
        "# 1. Count the number of occurrences of each HTTP status code\n",
        "statusCodes = df.groupby('status').count().sort(\"count\", ascending=False)\n",
        "statusCodes.show()"
      ],
      "metadata": {
        "colab": {
          "base_uri": "https://localhost:8080/"
        },
        "id": "9GgOxxK3ivZ2",
        "outputId": "581a669f-b3e1-4e3e-874a-718a6e291df3"
      },
      "execution_count": 10,
      "outputs": [
        {
          "output_type": "stream",
          "name": "stdout",
          "text": [
            "+------+-------+\n",
            "|status|  count|\n",
            "+------+-------+\n",
            "|   200|9579825|\n",
            "|   304| 340228|\n",
            "|   302| 199835|\n",
            "|   404| 105011|\n",
            "|   301|  67553|\n",
            "|   499|  50852|\n",
            "|   500|  14266|\n",
            "|   403|   5634|\n",
            "|   502|    798|\n",
            "|   400|    586|\n",
            "|   401|    323|\n",
            "|   408|    112|\n",
            "|   504|    103|\n",
            "|   414|     17|\n",
            "|   405|      6|\n",
            "|   206|      3|\n",
            "+------+-------+\n",
            "\n"
          ]
        }
      ]
    },
    {
      "cell_type": "code",
      "source": [
        "# 2. Show list of unsuccessful requests (Status code not 200)\n",
        "unsuccessfulRequests = df.filter(df.status != '200')\n",
        "unsuccessfulRequests.select('ip', 'request', 'status', 'size', 'referrer').show()"
      ],
      "metadata": {
        "colab": {
          "base_uri": "https://localhost:8080/"
        },
        "id": "utgpJ8O7nA49",
        "outputId": "29859600-5e0a-4cf9-c512-64ca2171e14f"
      },
      "execution_count": 11,
      "outputs": [
        {
          "output_type": "stream",
          "name": "stdout",
          "text": [
            "+--------------+--------------------+------+-----+--------------------+\n",
            "|            ip|             request|status| size|            referrer|\n",
            "+--------------+--------------------+------+-----+--------------------+\n",
            "| 66.249.66.194|GET /m/filter?f=p...|   302|    0|                   -|\n",
            "| 66.249.66.194|GET /m/filter/b12...|   302|    0|                   -|\n",
            "|178.131.92.246|      GET / HTTP/1.1|   302|    0|                   -|\n",
            "| 66.249.66.194|GET /product/2170...|   302|    0|                   -|\n",
            "| 66.249.66.194|GET /product/4406...|   404|32461|                   -|\n",
            "| 66.249.66.194|GET /m/filter?f=b...|   302|    0|                   -|\n",
            "|  37.9.113.152|GET /filter/p4510...|   403|  134|                   -|\n",
            "|  5.160.157.20|GET /filter?page=...|   301|  178|                   -|\n",
            "|  5.78.195.160|GET /static/image...|   304|    0|https://www.zanbi...|\n",
            "|37.153.179.172|GET /m/browse/mat...|   499|    0|                   -|\n",
            "| 66.249.66.194|GET /filter/p6001...|   302|    0|                   -|\n",
            "|  5.160.157.20|GET /filter?f=p69...|   301|  178|                   -|\n",
            "| 66.249.66.194|GET /search?f=p0&...|   404|32313|                   -|\n",
            "|31.184.135.123|GET /filter?f=b1,...|   301|  178|http://www.zanbil...|\n",
            "| 66.249.66.194|GET /filter/p6385...|   302|    0|                   -|\n",
            "| 86.55.131.133|GET /m/browse/hai...|   499|    0|https://www.zanbi...|\n",
            "|  37.9.113.152|GET /product/3213...|   403|  134|                   -|\n",
            "| 157.55.39.245|GET /filter?f=b1,...|   301|  178|                   -|\n",
            "| 31.184.130.52|GET /product/3443...|   404|32428|                   -|\n",
            "|  54.36.149.86|GET /filter/p2666...|   302|    0|                   -|\n",
            "+--------------+--------------------+------+-----+--------------------+\n",
            "only showing top 20 rows\n",
            "\n"
          ]
        }
      ]
    },
    {
      "cell_type": "code",
      "source": [
        "# Check if an IP is malicious or not using Virustotal Public API\n",
        "import requests\n",
        "import json\n",
        "import os\n",
        "def check_ip_malicious(ip):\n",
        "    apiurl=\"https://www.virustotal.com/api/v3/ip_addresses/\"+ip\n",
        "    header={\n",
        "        \"Accept\":\"application/json\",\n",
        "        \"x-apikey\":\"cb1b72839deaff921f30c68577ec11c5110fa890eb79e1e7949543dda5eaf3ec\"\n",
        "        }\n",
        "    response=requests.get(url=apiurl,headers=header)\n",
        "    data = response.json()\n",
        "    malicious = data['data']['attributes']['last_analysis_stats']['malicious']\n",
        "    if malicious > 0:\n",
        "        return True\n",
        "    else:\n",
        "        return False"
      ],
      "metadata": {
        "id": "8a4hTmXEoTSq"
      },
      "execution_count": 12,
      "outputs": []
    },
    {
      "cell_type": "code",
      "source": [
        "# 3. Find the top 10 IP addresses making requests and whether they are malicious or not\n",
        "from pyspark.sql.functions import udf\n",
        "from pyspark.sql.types import BooleanType\n",
        "topIPs = df.groupby('ip').count().sort(\"count\", ascending=False).limit(10)\n",
        "\n",
        "# Convert the check_ip_malicious function to a UDF\n",
        "check_ip_udf = udf(check_ip_malicious, BooleanType())\n",
        "\n",
        "# Apply the UDF to create a new column 'isMalicious'\n",
        "topIPs = topIPs.withColumn('isMalicious', check_ip_udf(topIPs['ip']))\n",
        "\n",
        "topIPs.show()"
      ],
      "metadata": {
        "colab": {
          "base_uri": "https://localhost:8080/"
        },
        "id": "FxcDFQoUuoMf",
        "outputId": "39988180-058e-4f51-80fc-44a493fc8f5c"
      },
      "execution_count": 13,
      "outputs": [
        {
          "output_type": "stream",
          "name": "stdout",
          "text": [
            "+---------------+------+-----------+\n",
            "|             ip| count|isMalicious|\n",
            "+---------------+------+-----------+\n",
            "|  66.249.66.194|353483|      false|\n",
            "|   66.249.66.91|314522|      false|\n",
            "|151.239.241.163| 92475|      false|\n",
            "|   66.249.66.92| 88332|      false|\n",
            "|    91.99.30.32| 45979|      false|\n",
            "|  104.222.32.91| 42058|      false|\n",
            "|    91.99.72.15| 38694|      false|\n",
            "|    91.99.47.57| 38612|      false|\n",
            "|   5.78.190.233| 37204|      false|\n",
            "|195.181.168.181| 27979|       true|\n",
            "+---------------+------+-----------+\n",
            "\n"
          ]
        }
      ]
    },
    {
      "cell_type": "code",
      "source": [
        "# 4. Identify Potential Unauthorized Access Attempts (401) and if the IP is malicious or not\n",
        "unauthorizedRequests = df.filter(df.status==401).groupby('ip').count().orderBy('count', ascending=False)\n",
        "\n",
        "unauthorizedRequests = unauthorizedRequests.withColumn('isMalicious', check_ip_udf(unauthorizedRequests['ip'])).show()"
      ],
      "metadata": {
        "colab": {
          "base_uri": "https://localhost:8080/"
        },
        "id": "AY-iNpe8wz5Q",
        "outputId": "f3012ef5-30f5-4810-bc8f-da45c8feb19c"
      },
      "execution_count": 14,
      "outputs": [
        {
          "output_type": "stream",
          "name": "stdout",
          "text": [
            "+---------------+-----+-----------+\n",
            "|             ip|count|isMalicious|\n",
            "+---------------+-----+-----------+\n",
            "|151.239.241.163|  220|      false|\n",
            "|    91.99.47.57|   34|      false|\n",
            "|   5.78.190.233|   23|      false|\n",
            "|    91.99.30.32|   17|      false|\n",
            "|  134.19.177.23|    6|      false|\n",
            "|  162.223.91.56|    5|      false|\n",
            "|  134.19.177.19|    5|      false|\n",
            "|  104.222.32.84|    4|      false|\n",
            "|  5.117.116.238|    3|      false|\n",
            "|  134.19.177.22|    3|      false|\n",
            "|  134.19.177.18|    1|      false|\n",
            "|  5.114.144.207|    1|      false|\n",
            "|  2.176.138.136|    1|       true|\n",
            "+---------------+-----+-----------+\n",
            "\n"
          ]
        }
      ]
    },
    {
      "cell_type": "code",
      "source": [
        "# 5. Detect Multiple Failed Login Attempts\n",
        "from pyspark.sql.functions import count, col, max\n",
        "multipleFailedLogins = df.filter(df.status==401).groupby('ip').agg(count('ip').alias('count')).filter(col('count')>1).show()"
      ],
      "metadata": {
        "colab": {
          "base_uri": "https://localhost:8080/"
        },
        "id": "3QoE6SXfgnGv",
        "outputId": "b6ff7232-0011-405a-d8e1-61eb249f1013"
      },
      "execution_count": 15,
      "outputs": [
        {
          "output_type": "stream",
          "name": "stdout",
          "text": [
            "+---------------+-----+\n",
            "|             ip|count|\n",
            "+---------------+-----+\n",
            "|    91.99.47.57|   34|\n",
            "|    91.99.30.32|   17|\n",
            "|  5.117.116.238|    3|\n",
            "|  162.223.91.56|    5|\n",
            "|151.239.241.163|  220|\n",
            "|   5.78.190.233|   23|\n",
            "|  134.19.177.22|    3|\n",
            "|  134.19.177.19|    5|\n",
            "|  104.222.32.84|    4|\n",
            "|  134.19.177.23|    6|\n",
            "+---------------+-----+\n",
            "\n"
          ]
        }
      ]
    },
    {
      "cell_type": "code",
      "source": [
        "# 6. Find Most Frequently Accessed Sensitive Endpoints (/admin)\n",
        "adminAccess = df.filter(df.referrer.like('%/admin%')).show(truncate=False)"
      ],
      "metadata": {
        "colab": {
          "base_uri": "https://localhost:8080/"
        },
        "id": "iCucgYI5mWXM",
        "outputId": "44f72ff3-0724-4104-f93f-7e6f2175f3e2"
      },
      "execution_count": 16,
      "outputs": [
        {
          "output_type": "stream",
          "name": "stdout",
          "text": [
            "+-------------+--------------------------+-------------------------------------------------------------------------+------+-----+---------------------------+-----------------------------------------------------------------------------------------------------------------------+\n",
            "|ip           |timestamp                 |request                                                                  |status|size |referrer                   |user_agent                                                                                                             |\n",
            "+-------------+--------------------------+-------------------------------------------------------------------------+------+-----+---------------------------+-----------------------------------------------------------------------------------------------------------------------+\n",
            "|134.19.177.21|22/Jan/2019:07:22:25 +0330|GET /static/images/relashionship.png HTTP/1.1                            |200   |5946 |https://www.zanbil.ir/admin|Mozilla/5.0 (Macintosh; Intel Mac OS X 10_12_6) AppleWebKit/605.1.15 (KHTML, like Gecko) Version/12.0.2 Safari/605.1.15|\n",
            "|134.19.177.21|22/Jan/2019:07:22:25 +0330|GET /static/images/guarantee.png HTTP/1.1                                |200   |11116|https://www.zanbil.ir/admin|Mozilla/5.0 (Macintosh; Intel Mac OS X 10_12_6) AppleWebKit/605.1.15 (KHTML, like Gecko) Version/12.0.2 Safari/605.1.15|\n",
            "|134.19.177.21|22/Jan/2019:07:22:25 +0330|GET /static/images/Excel.png HTTP/1.1                                    |200   |6770 |https://www.zanbil.ir/admin|Mozilla/5.0 (Macintosh; Intel Mac OS X 10_12_6) AppleWebKit/605.1.15 (KHTML, like Gecko) Version/12.0.2 Safari/605.1.15|\n",
            "|134.19.177.21|22/Jan/2019:07:22:24 +0330|GET /static/bundle-bundle_angular_defer.min.js HTTP/1.1                  |200   |29333|https://www.zanbil.ir/admin|Mozilla/5.0 (Macintosh; Intel Mac OS X 10_12_6) AppleWebKit/605.1.15 (KHTML, like Gecko) Version/12.0.2 Safari/605.1.15|\n",
            "|91.99.30.32  |22/Jan/2019:08:04:33 +0330|GET /static/images/send.png HTTP/1.1                                     |200   |5334 |https://www.zanbil.ir/admin|Mozilla/5.0 (Windows NT 10.0; Win64; x64; rv:64.0) Gecko/20100101 Firefox/64.0                                         |\n",
            "|134.19.177.21|22/Jan/2019:07:22:24 +0330|GET /static/bundle-bundle_jqGrid_defer.min.js HTTP/1.1                   |200   |2327 |https://www.zanbil.ir/admin|Mozilla/5.0 (Macintosh; Intel Mac OS X 10_12_6) AppleWebKit/605.1.15 (KHTML, like Gecko) Version/12.0.2 Safari/605.1.15|\n",
            "|134.19.177.21|22/Jan/2019:07:22:26 +0330|GET /static/images/users.png HTTP/1.1                                    |200   |4663 |https://www.zanbil.ir/admin|Mozilla/5.0 (Macintosh; Intel Mac OS X 10_12_6) AppleWebKit/605.1.15 (KHTML, like Gecko) Version/12.0.2 Safari/605.1.15|\n",
            "|134.19.177.21|22/Jan/2019:07:22:26 +0330|GET /static/images/area.png HTTP/1.1                                     |200   |6988 |https://www.zanbil.ir/admin|Mozilla/5.0 (Macintosh; Intel Mac OS X 10_12_6) AppleWebKit/605.1.15 (KHTML, like Gecko) Version/12.0.2 Safari/605.1.15|\n",
            "|134.19.177.21|22/Jan/2019:07:22:25 +0330|GET /static/images/specialOffer.png HTTP/1.1                             |200   |9687 |https://www.zanbil.ir/admin|Mozilla/5.0 (Macintosh; Intel Mac OS X 10_12_6) AppleWebKit/605.1.15 (KHTML, like Gecko) Version/12.0.2 Safari/605.1.15|\n",
            "|134.19.177.21|22/Jan/2019:07:22:24 +0330|GET /static/bundle-bundle_easyui_defer.min.js HTTP/1.1                   |200   |17873|https://www.zanbil.ir/admin|Mozilla/5.0 (Macintosh; Intel Mac OS X 10_12_6) AppleWebKit/605.1.15 (KHTML, like Gecko) Version/12.0.2 Safari/605.1.15|\n",
            "|134.19.177.21|22/Jan/2019:07:22:25 +0330|GET /static/images/globe.png HTTP/1.1                                    |200   |9740 |https://www.zanbil.ir/admin|Mozilla/5.0 (Macintosh; Intel Mac OS X 10_12_6) AppleWebKit/605.1.15 (KHTML, like Gecko) Version/12.0.2 Safari/605.1.15|\n",
            "|134.19.177.21|22/Jan/2019:07:22:25 +0330|GET /static/bundle-bundle_admin_defer.min.js HTTP/1.1                    |200   |89664|https://www.zanbil.ir/admin|Mozilla/5.0 (Macintosh; Intel Mac OS X 10_12_6) AppleWebKit/605.1.15 (KHTML, like Gecko) Version/12.0.2 Safari/605.1.15|\n",
            "|134.19.177.21|22/Jan/2019:07:22:24 +0330|GET /static/plugins/ckeditor-3.6.2.2/js/ckeditor/ckeditor.min.js HTTP/1.1|404   |33670|https://www.zanbil.ir/admin|Mozilla/5.0 (Macintosh; Intel Mac OS X 10_12_6) AppleWebKit/605.1.15 (KHTML, like Gecko) Version/12.0.2 Safari/605.1.15|\n",
            "|5.117.116.238|22/Jan/2019:08:53:10 +0330|GET /static/images/collection.png HTTP/1.1                               |304   |0    |https://www.zanbil.ir/admin|Mozilla/5.0 (Windows NT 10.0; Win64; x64; rv:64.0) Gecko/20100101 Firefox/64.0                                         |\n",
            "|91.99.30.32  |22/Jan/2019:08:09:08 +0330|GET /static/bundle-bundle_easyui_head.min.css HTTP/1.1                   |200   |6484 |https://www.zanbil.ir/admin|Mozilla/5.0 (Windows NT 10.0; Win64; x64; rv:64.0) Gecko/20100101 Firefox/64.0                                         |\n",
            "|5.117.116.238|22/Jan/2019:08:53:03 +0330|GET /static/bundle-bundle_admin_head.min.css HTTP/1.1                    |200   |25435|https://www.zanbil.ir/admin|Mozilla/5.0 (Windows NT 10.0; Win64; x64; rv:64.0) Gecko/20100101 Firefox/64.0                                         |\n",
            "|91.99.30.32  |22/Jan/2019:08:22:59 +0330|GET /static/images/send.png HTTP/1.1                                     |200   |5334 |https://www.zanbil.ir/admin|Mozilla/5.0 (Windows NT 10.0; Win64; x64; rv:61.0) Gecko/20100101 Firefox/61.0                                         |\n",
            "|91.99.30.32  |22/Jan/2019:08:08:47 +0330|GET /login/auth?forwardUri=%2Fadmin HTTP/1.1                             |200   |34475|https://www.zanbil.ir/admin|Mozilla/5.0 (Windows NT 10.0; Win64; x64) AppleWebKit/537.36 (KHTML, like Gecko) Chrome/71.0.3578.98 Safari/537.36     |\n",
            "|91.99.30.32  |22/Jan/2019:08:22:59 +0330|GET /static/js/application.min.js HTTP/1.1                               |200   |125  |https://www.zanbil.ir/admin|Mozilla/5.0 (Windows NT 10.0; Win64; x64; rv:61.0) Gecko/20100101 Firefox/61.0                                         |\n",
            "|91.99.30.32  |22/Jan/2019:08:09:10 +0330|GET /static/images/logo-zanbil.png HTTP/1.1                              |200   |3825 |https://www.zanbil.ir/admin|Mozilla/5.0 (Windows NT 10.0; Win64; x64; rv:64.0) Gecko/20100101 Firefox/64.0                                         |\n",
            "+-------------+--------------------------+-------------------------------------------------------------------------+------+-----+---------------------------+-----------------------------------------------------------------------------------------------------------------------+\n",
            "only showing top 20 rows\n",
            "\n"
          ]
        }
      ]
    },
    {
      "cell_type": "code",
      "source": [
        "# 7. Identify Large File Downloads\n",
        "df = df.withColumn(\"size\", df[\"size\"].cast(IntegerType())) # Need to cast size column to Integer to do 'max' computations\n",
        "maxSize = df.select(max(df.size).alias('maxSize'))\n",
        "\n",
        "LargeFiles = df.filter(df.size >= 1100000).show()"
      ],
      "metadata": {
        "colab": {
          "base_uri": "https://localhost:8080/"
        },
        "id": "WKVzSFWnnd3m",
        "outputId": "2b001c92-9e65-4043-f8eb-67c00e743cf0"
      },
      "execution_count": 17,
      "outputs": [
        {
          "output_type": "stream",
          "name": "stdout",
          "text": [
            "+--------------+--------------------+--------------------+------+-------+--------------------+--------------------+\n",
            "|            ip|           timestamp|             request|status|   size|            referrer|          user_agent|\n",
            "+--------------+--------------------+--------------------+------+-------+--------------------+--------------------+\n",
            "|   2.183.8.105|22/Jan/2019:13:38...|GET /image/5801?n...|   200|1126965|https://www.zanbi...|Mozilla/5.0 (Wind...|\n",
            "|    5.75.13.81|24/Jan/2019:19:55...|GET /image/5801?n...|   200|1126965|https://www.zanbi...|Mozilla/5.0 (Wind...|\n",
            "|  5.126.31.243|25/Jan/2019:15:31...|GET /image/5801?n...|   200|1126965|https://www.zanbi...|Mozilla/5.0 (Wind...|\n",
            "| 151.239.64.91|25/Jan/2019:17:29...|GET /image/5801?n...|   200|1126703|https://www.zanbi...|Mozilla/5.0 (Linu...|\n",
            "|85.133.194.178|25/Jan/2019:22:55...|GET /image/5801?n...|   200|1126965|https://www.zanbi...|Mozilla/5.0 (Maci...|\n",
            "| 185.110.28.34|22/Jan/2019:11:26...|GET /image/5801?n...|   200|1126965|https://www.zanbi...|Mozilla/5.0 (Wind...|\n",
            "|  95.174.67.19|23/Jan/2019:14:20...|GET /image/5801?n...|   200|1126965|https://www.zanbi...|Mozilla/5.0 (Wind...|\n",
            "| 83.123.198.99|25/Jan/2019:20:46...|GET /image/5801?n...|   200|1126703|https://www.zanbi...|Mozilla/5.0 (Linu...|\n",
            "|   188.75.95.9|26/Jan/2019:09:38...|GET /image/5801?n...|   200|1126965|https://www.zanbi...|Mozilla/5.0 (Wind...|\n",
            "| 207.46.13.199|22/Jan/2019:11:56...|GET /image/5883?n...|   200|1147355|                   -|Mozilla/5.0 (comp...|\n",
            "|   37.27.89.61|22/Jan/2019:15:10...|GET /image/5801?n...|   200|1126965|https://www.zanbi...|Mozilla/5.0 (Wind...|\n",
            "|192.15.133.200|26/Jan/2019:01:53...|GET /image/5801?n...|   200|1126703|https://www.zanbi...|Mozilla/5.0 (iPho...|\n",
            "|185.180.53.254|22/Jan/2019:08:35...|GET /image/5801?n...|   200|1126965|https://www.zanbi...|Mozilla/5.0 (Wind...|\n",
            "|  37.254.0.202|22/Jan/2019:15:49...|GET /image/5801?n...|   200|1126965|https://www.zanbi...|Mozilla/5.0 (Linu...|\n",
            "|  5.209.144.89|22/Jan/2019:23:02...|GET /image/5801?n...|   200|1126703|https://www.zanbi...|Mozilla/5.0 (Linu...|\n",
            "|91.251.165.139|25/Jan/2019:13:21...|GET /image/5801?n...|   200|1126965|https://www.zanbi...|Mozilla/5.0 (Wind...|\n",
            "|  5.201.136.57|25/Jan/2019:22:07...|GET /image/5801?n...|   200|1126965|https://www.zanbi...|Mozilla/5.0 (Wind...|\n",
            "|  40.77.167.13|22/Jan/2019:08:54...|GET /image/5795?n...|   200|1249490|                   -|Mozilla/5.0 (comp...|\n",
            "|91.251.165.139|25/Jan/2019:13:34...|GET /image/5801?w...|   200|1126965|https://www.zanbi...|Mozilla/5.0 (Wind...|\n",
            "|93.117.119.126|25/Jan/2019:22:00...|GET /image/5801?n...|   200|1126965|https://www.zanbi...|Mozilla/5.0 (Wind...|\n",
            "+--------------+--------------------+--------------------+------+-------+--------------------+--------------------+\n",
            "only showing top 20 rows\n",
            "\n"
          ]
        }
      ]
    },
    {
      "cell_type": "code",
      "source": [
        "#8 Detect Unusual Activity Patterns. Show all the IPs which have made huge amount of requests in a 5 minute window\n",
        "from pyspark.sql.functions import window\n",
        "df = df.withColumn('timestamp', to_timestamp(df['timestamp'], 'dd/MMM/yyyy:HH:mm:ss Z'))\n",
        "\n",
        "df.groupby('ip', window('timestamp', '5 minutes')).count().filter(col('count') > 100).orderBy(col('count').desc()).show(truncate=False)"
      ],
      "metadata": {
        "colab": {
          "base_uri": "https://localhost:8080/"
        },
        "id": "6pwP9v7wqwXD",
        "outputId": "a62430be-68ed-40c5-d2a4-c628e298d1c3"
      },
      "execution_count": 19,
      "outputs": [
        {
          "output_type": "stream",
          "name": "stdout",
          "text": [
            "+--------------+------------------------------------------+-----+\n",
            "|ip            |window                                    |count|\n",
            "+--------------+------------------------------------------+-----+\n",
            "|46.100.209.231|{2019-01-23 09:10:00, 2019-01-23 09:15:00}|1178 |\n",
            "|2.188.27.28   |{2019-01-26 09:55:00, 2019-01-26 10:00:00}|1115 |\n",
            "|91.98.38.74   |{2019-01-23 06:15:00, 2019-01-23 06:20:00}|985  |\n",
            "|94.183.36.205 |{2019-01-22 04:50:00, 2019-01-22 04:55:00}|951  |\n",
            "|66.249.66.91  |{2019-01-23 18:45:00, 2019-01-23 18:50:00}|914  |\n",
            "|104.222.32.91 |{2019-01-26 15:45:00, 2019-01-26 15:50:00}|855  |\n",
            "|104.222.32.91 |{2019-01-26 16:00:00, 2019-01-26 16:05:00}|854  |\n",
            "|104.222.32.91 |{2019-01-26 15:50:00, 2019-01-26 15:55:00}|846  |\n",
            "|104.222.32.91 |{2019-01-26 15:55:00, 2019-01-26 16:00:00}|842  |\n",
            "|104.222.32.91 |{2019-01-26 16:10:00, 2019-01-26 16:15:00}|819  |\n",
            "|104.222.32.91 |{2019-01-26 15:35:00, 2019-01-26 15:40:00}|812  |\n",
            "|104.222.32.91 |{2019-01-26 15:40:00, 2019-01-26 15:45:00}|797  |\n",
            "|104.222.32.91 |{2019-01-26 16:20:00, 2019-01-26 16:25:00}|790  |\n",
            "|104.222.32.91 |{2019-01-26 15:25:00, 2019-01-26 15:30:00}|790  |\n",
            "|104.222.32.91 |{2019-01-26 16:05:00, 2019-01-26 16:10:00}|777  |\n",
            "|104.222.32.91 |{2019-01-26 15:20:00, 2019-01-26 15:25:00}|773  |\n",
            "|104.222.32.91 |{2019-01-26 16:15:00, 2019-01-26 16:20:00}|767  |\n",
            "|66.249.66.91  |{2019-01-25 17:40:00, 2019-01-25 17:45:00}|759  |\n",
            "|104.222.32.91 |{2019-01-26 15:10:00, 2019-01-26 15:15:00}|746  |\n",
            "|104.222.32.91 |{2019-01-26 15:30:00, 2019-01-26 15:35:00}|743  |\n",
            "+--------------+------------------------------------------+-----+\n",
            "only showing top 20 rows\n",
            "\n"
          ]
        }
      ]
    }
  ]
}